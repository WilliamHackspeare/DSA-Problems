{
 "cells": [
  {
   "cell_type": "markdown",
   "metadata": {},
   "source": [
    "<h2><a href=\"https://leetcode.com/problems/merge-sorted-array/?envType=study-plan-v2&envId=top-interview-150\">88. Merge Sorted Array</a></h2><h3>Easy</h3><hr><p>You are given two integer arrays <code>nums1</code> and <code>nums2</code>, sorted in <strong>non-decreasing order</strong>, and two integers <code>m</code> and <code>n</code>, representing the number of elements in <code>nums1</code> and <code>nums2</code> respectively.</p>\n",
    "\n",
    "<p><strong>Merge</strong> <code>nums1</code> and <code>nums2</code> into a single array sorted in <strong>non-decreasing order</strong>.</p>\n",
    "\n",
    "<p>The final sorted array should not be returned by the function, but instead be <em>stored inside the array </em><code>nums1</code>. To accommodate this, <code>nums1</code> has a length of <code>m + n</code>, where the first <code>m</code> elements denote the elements that should be merged, and the last <code>n</code> elements are set to <code>0</code> and should be ignored. <code>nums2</code> has a length of <code>n</code>.</p>\n",
    "\n",
    "<p>&nbsp;</p>\n",
    "<p><strong class=\"example\">Example 1:</strong></p>\n",
    "\n",
    "<pre>\n",
    "<strong>Input:</strong> nums1 = [1,2,3,0,0,0], m = 3, nums2 = [2,5,6], n = 3\n",
    "<strong>Output:</strong> [1,2,2,3,5,6]\n",
    "<strong>Explanation:</strong> The arrays we are merging are [1,2,3] and [2,5,6].\n",
    "The result of the merge is [<u>1</u>,<u>2</u>,2,<u>3</u>,5,6] with the underlined elements coming from nums1.\n",
    "</pre>\n",
    "\n",
    "<p><strong class=\"example\">Example 2:</strong></p>\n",
    "\n",
    "<pre>\n",
    "<strong>Input:</strong> nums1 = [1], m = 1, nums2 = [], n = 0\n",
    "<strong>Output:</strong> [1]\n",
    "<strong>Explanation:</strong> The arrays we are merging are [1] and [].\n",
    "The result of the merge is [1].\n",
    "</pre>\n",
    "\n",
    "<p><strong class=\"example\">Example 3:</strong></p>\n",
    "\n",
    "<pre>\n",
    "<strong>Input:</strong> nums1 = [0], m = 0, nums2 = [1], n = 1\n",
    "<strong>Output:</strong> [1]\n",
    "<strong>Explanation:</strong> The arrays we are merging are [] and [1].\n",
    "The result of the merge is [1].\n",
    "Note that because m = 0, there are no elements in nums1. The 0 is only there to ensure the merge result can fit in nums1.\n",
    "</pre>\n",
    "\n",
    "<p>&nbsp;</p>\n",
    "<p><strong>Constraints:</strong></p>\n",
    "\n",
    "<ul>\n",
    "\t<li><code>nums1.length == m + n</code></li>\n",
    "\t<li><code>nums2.length == n</code></li>\n",
    "\t<li><code>0 &lt;= m, n &lt;= 200</code></li>\n",
    "\t<li><code>1 &lt;= m + n &lt;= 200</code></li>\n",
    "\t<li><code>-10<sup>9</sup> &lt;= nums1[i], nums2[j] &lt;= 10<sup>9</sup></code></li>\n",
    "</ul>\n",
    "\n",
    "<p>&nbsp;</p>\n",
    "<p><strong>Follow up: </strong>Can you come up with an algorithm that runs in <code>O(m + n)</code> time?</p>\n"
   ]
  },
  {
   "cell_type": "code",
   "execution_count": 1,
   "metadata": {},
   "outputs": [],
   "source": [
    "tests = [\n",
    "    [[1,2,3,0,0,0],3,[2,5,6],3],\n",
    "    [[1],1,[],0],\n",
    "    [[0],0,[1],1]\n",
    "]\n",
    "\n",
    "def test(sol,tests):\n",
    "    for i in tests:\n",
    "        sol.merge(i[0],i[1],i[2],i[3])\n",
    "        print(i[0])"
   ]
  },
  {
   "cell_type": "markdown",
   "metadata": {},
   "source": [
    "## Solution\n",
    "\n",
    "### Naive Approach\n",
    "\n",
    "Add all elements of <code>nums2</code> to the blank spaces at the end of <code>nums1</code>, and then sort.</br>\n",
    "<b>Time Complexity</b>: <code>O((m+n)log(m+n))</code>\n"
   ]
  },
  {
   "cell_type": "code",
   "execution_count": 2,
   "metadata": {},
   "outputs": [
    {
     "name": "stdout",
     "output_type": "stream",
     "text": [
      "[1, 2, 3, 2, 5, 6]\n",
      "[1]\n",
      "[1]\n"
     ]
    }
   ],
   "source": [
    "class Solution(object):\n",
    "    def merge(self, nums1, m, nums2, n):\n",
    "        nums1[m:] = nums2\n",
    "        nums2.sort()\n",
    "\n",
    "test(Solution(),tests)"
   ]
  },
  {
   "cell_type": "markdown",
   "metadata": {},
   "source": [
    "### Two Pointer Approach\n",
    "\n",
    "Iterate from the end of <code>nums2</code> and from index <code>m-1</code> in <code>nums1</code> to the front. Compare each element and add the maximum element to the end of <code>nums1</code>, and move forward the index for element insertion and the index for the array from which the element was picked.<br>\n",
    "<b>Time Complexity:</b> <code>O(m+n)</code>"
   ]
  },
  {
   "cell_type": "code",
   "execution_count": 3,
   "metadata": {},
   "outputs": [
    {
     "name": "stdout",
     "output_type": "stream",
     "text": [
      "[1, 2, 2, 3, 5, 6]\n",
      "[1]\n",
      "[1]\n"
     ]
    }
   ],
   "source": [
    "class Solution(object):\n",
    "    def merge(self, nums1, m, nums2, n):\n",
    "        i = m - 1\n",
    "        j = n - 1\n",
    "        k = m + n - 1\n",
    "        while j >= 0:\n",
    "            if i >= 0 and nums1[i] > nums2[j]:\n",
    "                nums1[k] = nums1[i]\n",
    "                i -= 1\n",
    "            else:\n",
    "                nums1[k] = nums2[j]\n",
    "                j -= 1\n",
    "            k -= 1\n",
    "\n",
    "test(Solution(),tests)"
   ]
  }
 ],
 "metadata": {
  "kernelspec": {
   "display_name": "Python 3",
   "language": "python",
   "name": "python3"
  },
  "language_info": {
   "codemirror_mode": {
    "name": "ipython",
    "version": 3
   },
   "file_extension": ".py",
   "mimetype": "text/x-python",
   "name": "python",
   "nbconvert_exporter": "python",
   "pygments_lexer": "ipython3",
   "version": "3.11.4"
  },
  "orig_nbformat": 4
 },
 "nbformat": 4,
 "nbformat_minor": 2
}
